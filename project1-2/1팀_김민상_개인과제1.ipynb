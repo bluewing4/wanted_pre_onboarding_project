{
  "nbformat": 4,
  "nbformat_minor": 0,
  "metadata": {
    "colab": {
      "name": "1팀_김민상_개인과제1.ipynb",
      "provenance": [],
      "collapsed_sections": []
    },
    "kernelspec": {
      "name": "python3",
      "display_name": "Python 3"
    },
    "language_info": {
      "name": "python"
    }
  },
  "cells": [
    {
      "cell_type": "markdown",
      "source": [
        "# 문제 : 문자열 매칭 알고리즘 구현"
      ],
      "metadata": {
        "id": "2VWGfCGE-Nfh"
      }
    },
    {
      "cell_type": "markdown",
      "source": [
        "문자열 집합 S가 존재한다 ex) S = {\"www\",\"xman\",\"yman\"}. 임의의 문자열이 N개 주어졌을때 각 임의의 문자열 내에 집합 S에 속하는 문자열이 존재하는지 판별하시오.\n",
        "\n",
        "아래의 문제를 순서대로 작성하세요. 1번만 푸셔도 됩니다.\n",
        "\n",
        "1. 문자열의 여러 부분 문자열 중 하나라도 집합 S에 있으면 'YES'를 출력하고, 아무것도\n",
        "없으면 'NO'를 출력한다.\n",
        "2. 주어진 문자열의 여러부분 문자열 중 처음 매칭된 패턴과 문자열 시작 포지션을 출력한\n",
        "다.\n",
        "3. 주어진 문자열의 여러부분 문자열 중 매칭 가능한 모든 패턴과 문자열 시작 포지션을 출\n",
        "력한다."
      ],
      "metadata": {
        "id": "BaPC5-iWKOk3"
      }
    },
    {
      "cell_type": "markdown",
      "source": [
        "#입력\n",
        "\n",
        "첫째 줄에 집합 S의 크기 N이 주어진다. (1 ≤ N ≤ 1000)\n",
        "다음 N개 줄에 집합 S의 원소들이 주어진다. 이 문자열의 길이는 100을 넘지 않는다.\n",
        "\n",
        "다음 줄에 답을 판별해야 하는 문자열의 개수 Q가 주어진다. (1 ≤ Q ≤ 1000)\n",
        "\n",
        "다음 Q개 줄에 답을 판별해야 하는 문자열이 주어진다. 이 문자열의 길이는 10000을 넘지 않는다.\n",
        "\n",
        "입력으로 주어지는 모든 문자열은 알파벳 소문자로만 이루어져 있다."
      ],
      "metadata": {
        "id": "zG_dJ8g6V92S"
      }
    },
    {
      "cell_type": "markdown",
      "source": [
        "#출력\n",
        "\n",
        "Q개 줄에 각 문자열에 대한 답을 출력한다."
      ],
      "metadata": {
        "id": "BPvN_7J8WFIX"
      }
    },
    {
      "cell_type": "markdown",
      "source": [
        " #예제 입력\n",
        "\n",
        "9(문자열 집합S의 원소 개수) \n",
        "\"aaa\",\"\"aaaabb\", \"\"aabbcc\", \"abb\", \"bcc\", \"bbcc\", \"aabbccdd\", \"aaabb”, “cccd” (comma, new line 구분은 자유) \n",
        "\n",
        "1(매칭 대상 문자열 수) \n",
        "\"aaaabbaabbccdd\" \n"
      ],
      "metadata": {
        "id": "uQvhJfCvWHfQ"
      }
    },
    {
      "cell_type": "markdown",
      "source": [
        "출력형식은 무관합니다.\n",
        "1. 문자열 집합 중 “cccd”만 주어진 문자열의 부분 문자열에 속하지 않으므로 YES, YES, YES, YES, YES, YES, YES, YES, NO 이다."
      ],
      "metadata": {
        "id": "riZMMznvi4bf"
      }
    },
    {
      "cell_type": "markdown",
      "source": [
        "2. 아래와같이 첫번째로 매칭된 패턴의 시작포지션과 문자열 패턴을 출력한다.\n",
        "\n",
        "pos = 0, pattern = aaa\n",
        "\n",
        "pos = 0, pattern = aaaabb\n",
        "\n",
        "pos = 6, pattern = aabbcc\n",
        "\n",
        "pos = 7, pattern = abb\n",
        "\n",
        "pos = 9, pattern = bcc\n",
        "\n",
        "pos = 8, pattern = bbcc\n",
        "\n",
        "pos = 6, pattern = aabbccdd\n",
        "\n",
        "pos = 1, pattern = aaabb"
      ],
      "metadata": {
        "id": "lnRzu92OjAnj"
      }
    },
    {
      "cell_type": "markdown",
      "source": [
        "3. 아래와같이 가능한 모든 문자열 패턴의 시작 포지션과 문자열 패턴을 출력한다.\n",
        "\n",
        "pos = 0, pattern = aaa\n",
        "\n",
        "pos = 1, pattern = aaa\n",
        "\n",
        "pos = 1, pattern = aaabb\n",
        "\n",
        "pos = 3, pattern = abb\n",
        "\n",
        "pos = 0, pattern = aaaabb\n",
        "\n",
        "pos = 7, pattern = abb\n",
        "\n",
        "pos = 8, pattern = bbcc\n",
        "\n",
        "pos = 9, pattern = bcc\n",
        "\n",
        "pos = 6, pattern = aabbcc\n",
        "\n",
        "pos = 6, pattern = aabbccdd"
      ],
      "metadata": {
        "id": "_2jGQAgvWdq-"
      }
    },
    {
      "cell_type": "code",
      "source": [
        "from collections import deque\n",
        "\n",
        "class State:\n",
        "    sid = None\n",
        "    value = None\n",
        "    isFinal = False\n",
        "    tranList = None\n",
        "    failState = 0\n",
        "    outputSet = None\n",
        "\n",
        "    def __init__(self, sid, val):\n",
        "        self.sid = sid\n",
        "        self.value = val\n",
        "        self.tranList = {}\n",
        "        self.failState = 0\n",
        "        self.outputSet = set()\n",
        "\n",
        "    def goto(self, key):\n",
        "        if key in self.tranList:\n",
        "            return self.tranList[key]\n",
        "\n",
        "    def addOutput(self, key):\n",
        "        self.outputSet = self.outputSet ^ key\n",
        "\n",
        "    def display(self):\n",
        "        print(\"State:\", self.sid, \"Outgoing:\", len(self.tranList.keys()), \"Failure:\", self.failState)\n",
        "\n",
        "        if self.isFinal == True:\n",
        "            print(\" +--Output:\", self.outputSet)\n",
        "\n",
        "        for node in self.tranList.keys():\n",
        "            s = self.tranList[node]\n",
        "            s.display()\n",
        "class main:\n",
        "    root = None\n",
        "    sid = 0\n",
        "    table = {}\n",
        "\n",
        "    def __init__(self):\n",
        "        self.root = State(0, None)\n",
        "        self.table[0] = self.root\n",
        "\n",
        "    def addKeyword(self, keyword):\n",
        "        current = self.root\n",
        "\n",
        "        for key in keyword:\n",
        "            if key not in current.tranList:\n",
        "                self.sid = self.sid + 1\n",
        "                current.tranList[key] = State(self.sid, key)\n",
        "                self.table[self.sid] = current.tranList[key]\n",
        "\n",
        "            current = current.tranList[key]\n",
        "\n",
        "        current.isFinal = True\n",
        "        current.outputSet.add(keyword)\n",
        "    def setFailure(self):\n",
        "        queue = deque()\n",
        "        current = self.root\n",
        "\n",
        "        for k in self.root.tranList:\n",
        "            queue.append(self.root.tranList[k])\n",
        "\n",
        "        while len(queue) != 0:\n",
        "            r = queue.popleft()\n",
        "            for k in r.tranList:\n",
        "                queue.append(r.tranList[k])\n",
        "                nd = r.tranList[k]\n",
        "                sid = r.failState\n",
        "                value = nd.value\n",
        "                current = self.table[sid]\n",
        "\n",
        "                while True:\n",
        "                    if current.goto(value) == None and current.sid != 0:\n",
        "                        new_sid = current.failState\n",
        "                        current = self.table[new_sid]\n",
        "                    else:\n",
        "                        break\n",
        "                child = current.goto(value)\n",
        "\n",
        "                if child == None:\n",
        "                    nd.failState = current.sid\n",
        "                else:\n",
        "                    nd.failState = child.sid\n",
        "\n",
        "                nd.addOutput(self.table[nd.failState].outputSet)\n",
        "\n",
        "    def findString(self, str):\n",
        "        current = self.root\n",
        "\n",
        "        count = 0\n",
        "        for key in str:\n",
        "            # print(\"Check:\", key)\n",
        "            while True:\n",
        "                if current.goto(key) == None and current.sid != 0:\n",
        "                    current = self.table[current.failState]\n",
        "                    # print(\"failure:\", current.sid)\n",
        "                else:\n",
        "                    child = current.goto(key)\n",
        "                    break\n",
        "            if child != None:\n",
        "                current = child\n",
        "                if len(child.outputSet) > 0:\n",
        "                    return True\n",
        "\n",
        "        return False\n",
        "\n",
        "    def display(self):\n",
        "        self.root.display()"
      ],
      "metadata": {
        "id": "gIvaaacZ0pmP"
      },
      "execution_count": 132,
      "outputs": []
    },
    {
      "cell_type": "code",
      "source": [
        "x = main()\n",
        "pattern =  ['aaa','aaaabb', 'aabbcc', 'abb', 'bcc', 'bbcc', 'aabbccdd', 'aaabb', 'cccd']\n",
        "p = len(pattern)\n",
        "for i in range(p):\n",
        "  x.addKeyword(pattern[i])\n",
        "x.setFailure()\n",
        "\n",
        "t = len(pattern)\n",
        "for i in range(t):\n",
        "  target = 'aaaabbaabbccdd'\n",
        "  print('YES') if x.findString(target) else print('NO')\n",
        "  "
      ],
      "metadata": {
        "colab": {
          "base_uri": "https://localhost:8080/"
        },
        "id": "Im6f0Q1O4Zms",
        "outputId": "60464b2a-b905-445a-ffec-e4fc65a762d2"
      },
      "execution_count": 135,
      "outputs": [
        {
          "output_type": "stream",
          "name": "stdout",
          "text": [
            "YES\n",
            "YES\n",
            "YES\n",
            "YES\n",
            "YES\n",
            "YES\n",
            "YES\n",
            "YES\n",
            "YES\n"
          ]
        }
      ]
    },
    {
      "cell_type": "code",
      "source": [
        "x = main()\n",
        "pattern =  ['cccd']\n",
        "p = len(pattern)\n",
        "for i in range(p):\n",
        "  x.addKeyword(pattern[i])\n",
        "x.setFailure()\n",
        "\n",
        "t = len(pattern)\n",
        "for i in range(t):\n",
        "  target = 'aaaabbaabbccdd'\n",
        "  print('YES') if x.findString(target) else print('NO')"
      ],
      "metadata": {
        "colab": {
          "base_uri": "https://localhost:8080/"
        },
        "id": "NKLZccOs1bh-",
        "outputId": "3b421f6d-771f-430d-e3b3-acfe4894461b"
      },
      "execution_count": 136,
      "outputs": [
        {
          "output_type": "stream",
          "name": "stdout",
          "text": [
            "NO\n"
          ]
        }
      ]
    },
    {
      "cell_type": "markdown",
      "source": [
        "결과 : 직접 구현한 것이 아니라 급하게 찾아서 붙여넣는 정도밖에 되지않았습니다. 결과지 역시도 문자열 전체가 입력되면 yes가 나오고 따로 잘못된 문자를 넣으면 NO가 나오면서 완전한 실패를 하였다. 문자열 매칭은 처음해보았는데 아직 제대로 이해 및 구현을 하지 못하였습니다.\n",
        "\n",
        "이후 다시 수정하여 제출하도록 하겠습니다."
      ],
      "metadata": {
        "id": "MsODb3fdD1Wr"
      }
    }
  ]
}